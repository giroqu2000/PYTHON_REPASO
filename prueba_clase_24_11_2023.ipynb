{
  "nbformat": 4,
  "nbformat_minor": 0,
  "metadata": {
    "colab": {
      "provenance": [],
      "authorship_tag": "ABX9TyOvIUSYlTuT19oJmPWo3RPs",
      "include_colab_link": true
    },
    "kernelspec": {
      "name": "python3",
      "display_name": "Python 3"
    },
    "language_info": {
      "name": "python"
    }
  },
  "cells": [
    {
      "cell_type": "markdown",
      "metadata": {
        "id": "view-in-github",
        "colab_type": "text"
      },
      "source": [
        "<a href=\"https://colab.research.google.com/github/giroqu2000/PYTHON_REPASO/blob/main/prueba_clase_24_11_2023.ipynb\" target=\"_parent\"><img src=\"https://colab.research.google.com/assets/colab-badge.svg\" alt=\"Open In Colab\"/></a>"
      ]
    },
    {
      "cell_type": "markdown",
      "source": [
        "#volviendo ha repasar python\n",
        "**basico**"
      ],
      "metadata": {
        "id": "r5EKl033tyBZ"
      }
    },
    {
      "cell_type": "code",
      "execution_count": 1,
      "metadata": {
        "colab": {
          "base_uri": "https://localhost:8080/"
        },
        "id": "HGX9JDHETv1Q",
        "outputId": "46ac34dc-0dca-4305-dec2-cce4a870b3b9"
      },
      "outputs": [
        {
          "output_type": "stream",
          "name": "stdout",
          "text": [
            "hola ctic uni\n"
          ]
        }
      ],
      "source": [
        "print('hola ctic uni')"
      ]
    },
    {
      "cell_type": "code",
      "source": [
        "1+1\n"
      ],
      "metadata": {
        "colab": {
          "base_uri": "https://localhost:8080/"
        },
        "id": "iQhJjyUCtYOY",
        "outputId": "25058901-b1a1-42d0-bbb4-ab915e45c554"
      },
      "execution_count": 2,
      "outputs": [
        {
          "output_type": "execute_result",
          "data": {
            "text/plain": [
              "2"
            ]
          },
          "metadata": {},
          "execution_count": 2
        }
      ]
    },
    {
      "cell_type": "code",
      "source": [
        "5*99"
      ],
      "metadata": {
        "colab": {
          "base_uri": "https://localhost:8080/"
        },
        "id": "3G6gqDHxtaeW",
        "outputId": "3d533e33-237d-4440-9132-240d3596e117"
      },
      "execution_count": 3,
      "outputs": [
        {
          "output_type": "execute_result",
          "data": {
            "text/plain": [
              "495"
            ]
          },
          "metadata": {},
          "execution_count": 3
        }
      ]
    },
    {
      "cell_type": "code",
      "source": [
        "print('vas ha lograr lo que te propusiste')"
      ],
      "metadata": {
        "colab": {
          "base_uri": "https://localhost:8080/"
        },
        "id": "1XV3dXr82Rwu",
        "outputId": "eed57ce0-b868-4a59-a0c2-67102ea64414"
      },
      "execution_count": 4,
      "outputs": [
        {
          "output_type": "stream",
          "name": "stdout",
          "text": [
            "vas ha lograr lo que te propusiste\n"
          ]
        }
      ]
    },
    {
      "cell_type": "code",
      "source": [
        "print('tu puedes y se va ha cumplir tu deseo de ingresar ha san marcos')"
      ],
      "metadata": {
        "colab": {
          "base_uri": "https://localhost:8080/"
        },
        "id": "Lbr3ynWR2aRv",
        "outputId": "dd189b81-1701-4ae3-d3ed-f453fa4811a1"
      },
      "execution_count": 5,
      "outputs": [
        {
          "output_type": "stream",
          "name": "stdout",
          "text": [
            "tu puedes y se va ha cumplir tu deseo de ingresar ha san marcos\n"
          ]
        }
      ]
    }
  ]
}